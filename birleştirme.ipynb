{
 "cells": [
  {
   "cell_type": "code",
   "execution_count": 28,
   "metadata": {},
   "outputs": [
    {
     "data": {
      "text/plain": [
       "(74058, 2)"
      ]
     },
     "execution_count": 28,
     "metadata": {},
     "output_type": "execute_result"
    }
   ],
   "source": [
    "import pandas as pd\n",
    "\n",
    "# df1 = pd.read_csv('model_2020_down_sub.csv')\n",
    "df2 = pd.read_csv('model_2020_up_sub.csv')\n",
    "df3 = pd.read_csv('model_2021_down_sub.csv')\n",
    "df4 = pd.read_csv('model_2021_up_sub.csv')\n",
    "# df5 = pd.read_csv('model_2022_down_sub.csv')\n",
    "# df6 = pd.read_csv('model_2022_up_sub.csv')\n",
    "df7 = pd.read_csv('model_2023_down_sub.csv')\n",
    "df8 = pd.read_csv('model_2023_up_sub.csv')\n",
    "churn1 = pd.read_csv('churn_2020.csv')\n",
    "churn2 = pd.read_csv('churn_2021.csv')\n",
    "# churn3 = pd.read_csv('churn_2022.csv')\n",
    "churn4 = pd.read_csv('churn_2023.csv')\n",
    "\n",
    "# df5, df6, churn3,\n",
    "dfs = [df2, df3, df4, df7, df8, churn1, churn2, churn4]\n",
    "# df1, df7,\n",
    "submission = pd.concat(dfs, ignore_index=True)\n",
    "\n",
    "submission.shape"
   ]
  },
  {
   "cell_type": "code",
   "execution_count": 29,
   "metadata": {},
   "outputs": [
    {
     "data": {
      "text/plain": [
       "id                   0\n",
       "net_payment_count    0\n",
       "dtype: int64"
      ]
     },
     "execution_count": 29,
     "metadata": {},
     "output_type": "execute_result"
    }
   ],
   "source": [
    "submission.isnull().sum()"
   ]
  },
  {
   "cell_type": "code",
   "execution_count": 30,
   "metadata": {},
   "outputs": [],
   "source": [
    "# df1.shape, df2.shape, df3.shape, df4.shape, df7.shape, df8.shape, churn1.shape, churn2.shape, churn4.shape"
   ]
  },
  {
   "cell_type": "code",
   "execution_count": 31,
   "metadata": {},
   "outputs": [],
   "source": [
    "# df1.shape, df2.shape, df3.shape, df4.shape, df5.shape, df6.shape"
   ]
  },
  {
   "cell_type": "code",
   "execution_count": 32,
   "metadata": {},
   "outputs": [],
   "source": [
    "# churn1.shape, churn2.shape, churn3.shape"
   ]
  },
  {
   "cell_type": "code",
   "execution_count": 33,
   "metadata": {},
   "outputs": [
    {
     "data": {
      "text/plain": [
       "39.73777039795815"
      ]
     },
     "execution_count": 33,
     "metadata": {},
     "output_type": "execute_result"
    }
   ],
   "source": [
    "submission.net_payment_count.mean()"
   ]
  },
  {
   "cell_type": "code",
   "execution_count": 34,
   "metadata": {},
   "outputs": [],
   "source": [
    "submission.to_csv('gap_filtered_q30.csv', index=False)"
   ]
  },
  {
   "cell_type": "code",
   "execution_count": 35,
   "metadata": {},
   "outputs": [
    {
     "data": {
      "text/plain": [
       "(74058, 2)"
      ]
     },
     "execution_count": 35,
     "metadata": {},
     "output_type": "execute_result"
    }
   ],
   "source": [
    "submission.shape"
   ]
  },
  {
   "cell_type": "code",
   "execution_count": null,
   "metadata": {},
   "outputs": [],
   "source": []
  },
  {
   "cell_type": "code",
   "execution_count": 36,
   "metadata": {},
   "outputs": [
    {
     "data": {
      "text/plain": [
       "id\n",
       "202310merchant_10000    2\n",
       "202310merchant_51198    2\n",
       "202312merchant_50722    2\n",
       "202310merchant_50760    2\n",
       "202311merchant_50760    2\n",
       "                       ..\n",
       "202312merchant_2675     1\n",
       "202310merchant_26778    1\n",
       "202311merchant_26778    1\n",
       "202312merchant_26778    1\n",
       "202312merchant_9980     1\n",
       "Name: count, Length: 69972, dtype: int64"
      ]
     },
     "execution_count": 36,
     "metadata": {},
     "output_type": "execute_result"
    }
   ],
   "source": [
    "submission.id.value_counts()"
   ]
  },
  {
   "cell_type": "code",
   "execution_count": null,
   "metadata": {},
   "outputs": [],
   "source": []
  }
 ],
 "metadata": {
  "kernelspec": {
   "display_name": "Python 3",
   "language": "python",
   "name": "python3"
  },
  "language_info": {
   "codemirror_mode": {
    "name": "ipython",
    "version": 3
   },
   "file_extension": ".py",
   "mimetype": "text/x-python",
   "name": "python",
   "nbconvert_exporter": "python",
   "pygments_lexer": "ipython3",
   "version": "3.10.10"
  }
 },
 "nbformat": 4,
 "nbformat_minor": 2
}
